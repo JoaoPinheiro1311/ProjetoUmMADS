{
  "nbformat": 4,
  "nbformat_minor": 0,
  "metadata": {
    "colab": {
      "provenance": []
    },
    "kernelspec": {
      "name": "python3",
      "display_name": "Python 3"
    },
    "language_info": {
      "name": "python"
    }
  },
  "cells": [
    {
      "cell_type": "markdown",
      "source": [
        "# Gestão de Stocks\n",
        "Autores: Alef Amaral, João Pinheiro, Ricardo Jesus, Maximiliano Lopes e Petra Santos.\n",
        "\n",
        "---\n",
        "\n",
        "Data: De 12/03/25 até XX\n",
        "\n",
        "---\n",
        "\n",
        "Contexto: Este projeto tem evoluído de forma consistente dentro das metodologias ágeis, com todos os aspetos essenciais bem definidos. A equipa de desenvolvimento tem demonstrado um forte espírito de cooperação e competência, atingindo marcos importantes ao longo do processo. A gestão do projeto tem assegurado a coordenação eficiente das tarefas, desde a logística de materiais à organização de parcerias e recursos. Para garantir um fluxo de trabalho alinhado, realizam-se reuniões frequentes, onde se analisam avanços, se esclarecem dúvidas e se tomam decisões para otimizar o progresso.\n",
        "\n",
        "---\n",
        "\n",
        "Localização: Maia, 2025."
      ],
      "metadata": {
        "id": "r5cDhB-pfJWP"
      }
    },
    {
      "cell_type": "markdown",
      "source": [
        "Este código define a classe Armazém, que representa um armazém com um nome, uma capacidade máxima e um stock de mercadorias. Através do método adicionar_mercadoria, é possível adicionar produtos ao stock, desde que a capacidade total não seja excedida. Se o produto já existir, a quantidade é aumentada; caso contrário, é criado um novo registo com a quantidade, preço e peso do produto."
      ],
      "metadata": {
        "id": "ExyO8SwsV6Hb"
      }
    },
    {
      "cell_type": "code",
      "source": [
        "import matplotlib.pyplot as plt\n",
        "\n",
        "class Armazem:\n",
        "\n",
        "    def __init__(self, nome, capacidade, Lat, Lon):\n",
        "        # Verifica se já existe um armazém com o mesmo nome\n",
        "        for armazem in armas:\n",
        "            if armazem.nome == nome:\n",
        "                print(f\"❌ Erro: já existe um armazém com o nome '{nome}'.\")\n",
        "                return  # Interrompe a criação\n",
        "\n",
        "        self.nome = nome\n",
        "        self.capacidade = capacidade\n",
        "        self.Lat = Lat\n",
        "        self.Lon = Lon\n",
        "        self.stock = {}\n",
        "        self.logs = []\n",
        "        self.historico_margens = {}\n",
        "        armas.append(self)\n",
        "        print(f\"✅ Sucesso: Armazém criando [ '{nome}' ].\")\n",
        "\n",
        "    def adicionar_mercadoria(self, nome, quantidade, preco, peso):\n",
        "        if quantidade < 0 or preco < 0 or peso < 0:\n",
        "            print(\"❌ Erro: Introduza apenas valores positivos!\")\n",
        "            return\n",
        "        if sum(produto[\"quantidade\"] for produto in self.stock.values()) + quantidade > self.capacidade:\n",
        "            print(\"❌ Erro: Capacidade excedida!\")\n",
        "            return\n",
        "\n",
        "        if nome in self.stock:\n",
        "            stock_antigo = self.stock[nome]\n",
        "            qtd_antiga = stock_antigo[\"quantidade\"]\n",
        "            preco_antigo = stock_antigo[\"preço\"]\n",
        "\n",
        "            # Calcular média ponderada\n",
        "            novo_preco_medio = ((qtd_antiga * preco_antigo) + (quantidade * preco)) / (qtd_antiga + quantidade)\n",
        "\n",
        "            self.stock[nome][\"quantidade\"] += quantidade\n",
        "            self.stock[nome][\"preço\"] = novo_preco_medio\n",
        "        else:\n",
        "            self.stock[nome] = {\"quantidade\": quantidade, \"preço\": preco, \"peso\": peso}\n",
        "\n",
        "        print(f\"📦 {quantidade} unidades de {nome} adicionadas ao {self.nome}.\")\n",
        "\n",
        "    def remover_mercadoria(self, nome, quantidade):\n",
        "        if nome in self.stock and self.stock[nome][\"quantidade\"] >= quantidade:\n",
        "            self.stock[nome][\"quantidade\"] -= quantidade\n",
        "            if self.stock[nome][\"quantidade\"] == 0:\n",
        "                del self.stock[nome]\n",
        "            print(f\"🗑️ {quantidade} unidades de {nome} removidas do {self.nome}.\")\n",
        "        else:\n",
        "            print(\"❌ Erro: Quantidade insuficiente ou produto inexistente.\")\n",
        "\n",
        "    def transferir_mercadoria(self, destino, nome, quantidade):\n",
        "        if nome in self.stock and self.stock[nome][\"quantidade\"] >= quantidade:\n",
        "            destino.adicionar_mercadoria(nome, quantidade, self.stock[nome][\"preço\"], self.stock[nome][\"peso\"])\n",
        "            self.remover_mercadoria(nome, quantidade)\n",
        "        else:\n",
        "            print(\"❌ Erro: Transferência inválida.\")\n",
        "\n",
        "    def listar_armazens():\n",
        "        if not armas:\n",
        "            print(\"❌ Não existem armazéns registados.\")\n",
        "            return\n",
        "\n",
        "        for armazem in armas:\n",
        "            print(f\"\\n📦 Armazém: {armazem.nome} (Capacidade: {armazem.capacidade})\")\n",
        "            if not armazem.stock:\n",
        "                print(\"  - 🏷️ Sem mercadoria.\")\n",
        "            else:\n",
        "                for produto, detalhes in armazem.stock.items():\n",
        "                    print(f\"  - {produto}: {detalhes['quantidade']} unidades | Preço: {detalhes['preço']}€ | Peso: {detalhes['peso']}kg\")\n",
        "\n",
        "    def verificar_capacidade(self):\n",
        "        total = sum(produto[\"quantidade\"] for produto in self.stock.values())\n",
        "        if total == self.capacidade:\n",
        "            print(f\"⚠️ Aviso: O armazém '{self.nome}' atingiu a sua capacidade máxima.\")\n",
        "            self.logs.append(\"Capacidade máxima atingida.\")\n",
        "        elif total > self.capacidade:\n",
        "            print(f\"⚠️ Aviso: O armazém '{self.nome}' ultrapassou a capacidade!\")\n",
        "            self.logs.append(\"Capacidade ultrapassada.\")\n",
        "        elif total >= self.capacidade * 0.9:\n",
        "            print(f\"⚠️ Aviso: O armazém '{self.nome}' está a 90% da capacidade.\")\n",
        "            self.logs.append(\"Capacidade a 90%.\")\n",
        "\n",
        "    def mostrar_logs(self):\n",
        "        print(f\"--- 📜 LOGS DO ARMAZÉM '{self.nome}' ---\")\n",
        "        for log in self.logs:\n",
        "            print(log)\n",
        "\n",
        "    def custo_medio_produto(self, nome):\n",
        "        if nome in self.stock:\n",
        "            preco = self.stock[nome][\"preço\"]\n",
        "            print(f\"💰 Custo médio de '{nome}' no armazém '{self.nome}': {preco:.2f}€\")\n",
        "            return preco\n",
        "        else:\n",
        "            print(f\"❌ Produto '{nome}' não encontrado no armazém '{self.nome}'.\")\n",
        "            return None\n",
        "\n",
        "    def valor_medio_venda_produto(self, nome):\n",
        "        if nome in self.stock:\n",
        "            # Calcular o preço médio de venda\n",
        "            qtd = self.stock[nome][\"quantidade\"]\n",
        "            preco_venda = self.stock[nome][\"preço\"]\n",
        "\n",
        "            # Valor médio de venda = preço médio * quantidade total\n",
        "            valor_medio_venda = preco_venda * qtd\n",
        "\n",
        "            print(f\"💰 Valor médio de venda de '{nome}' no armazém '{self.nome}': {valor_medio_venda:.2f}€\")\n",
        "            return valor_medio_venda\n",
        "        else:\n",
        "            print(f\"❌ Produto '{nome}' não encontrado no armazém '{self.nome}'.\")\n",
        "            return None\n",
        "\n",
        "    def listar_produtos_maior_margem(self):\n",
        "        produtos_com_margem = []\n",
        "\n",
        "        for nome, info in self.stock.items():\n",
        "            preco_custo = info[\"preço\"]\n",
        "            quantidade = info[\"quantidade\"]\n",
        "\n",
        "            if \"preço_venda\" in info:\n",
        "                preco_venda = info[\"preço_venda\"]\n",
        "                margem = ((preco_venda - preco_custo) / preco_venda) * 100\n",
        "                produtos_com_margem.append((nome, margem, quantidade))\n",
        "\n",
        "                # Guardar histórico\n",
        "                if nome not in self.historico_margens:\n",
        "                    self.historico_margens[nome] = []\n",
        "                self.historico_margens[nome].append(margem)\n",
        "\n",
        "        produtos_com_margem.sort(key=lambda x: x[1], reverse=True)\n",
        "\n",
        "        print(f\"📊 --- Produtos com maior margem de lucro no armazém '{self.nome}' ---\")\n",
        "        for nome, margem, quantidade in produtos_com_margem:\n",
        "            print(f\"📈 Produto: {nome} | Margem: {margem:.2f}% | Quantidade: {quantidade}\")\n",
        "\n",
        "    def alerta_quase_cheio(self):\n",
        "        total = sum(produto[\"quantidade\"] for produto in self.stock.values())\n",
        "        if total >= self.capacidade * 0.9:\n",
        "            print(f\"⚠️ Aviso: O armazém '{self.nome}' está a 90% da sua capacidade!\")\n",
        "\n",
        "    def alerta_quase_vazio(self):\n",
        "        total = sum(produto[\"quantidade\"] for produto in self.stock.values())\n",
        "        if total <= self.capacidade * 0.1:\n",
        "            print(f\"⚠️ Aviso: O armazém '{self.nome}' está quase vazio (menos de 10% da capacidade).\")\n",
        "\n",
        "    def grafico_evolucao_margens(self):\n",
        "        if not self.historico_margens:\n",
        "            print(\"📉 Ainda não há histórico de margens.\")\n",
        "            return\n",
        "\n",
        "        plt.figure(figsize=(10, 5))\n",
        "\n",
        "        for produto, margens in self.historico_margens.items():\n",
        "            plt.plot(margens, label=produto)\n",
        "\n",
        "        plt.title(f\"📈 Evolução da Margem por Produto - Armazém {self.nome}\")\n",
        "        plt.xlabel(\"Registos\")\n",
        "        plt.ylabel(\"Margem (%)\")\n",
        "        plt.legend()\n",
        "        plt.grid(True)\n",
        "        plt.tight_layout()\n",
        "        plt.show()\n",
        "\n",
        "    def listar_armazens_mais_lucrativos():\n",
        "        if not armas:\n",
        "            print(\"❌ Não existem armazéns registados.\")\n",
        "            return\n",
        "\n",
        "        lucros = []\n",
        "\n",
        "        armazens_filtrados = [armazem for armazem in armas if not armazem.nome.startswith(\"Armazém\")]\n",
        "\n",
        "        for armazem in armazens_filtrados:\n",
        "            total_lucro = 0\n",
        "            for produto, info in armazem.stock.items():\n",
        "                if \"preço_venda\" in info:\n",
        "                    preco_custo = info[\"preço\"]\n",
        "                    preco_venda = info[\"preço_venda\"]\n",
        "                    quantidade = info[\"quantidade\"]\n",
        "                    lucro = (preco_venda - preco_custo) * quantidade\n",
        "                    total_lucro += lucro\n",
        "            lucros.append((armazem.nome, total_lucro))\n",
        "\n",
        "        lucros.sort(key=lambda x: x[1], reverse=True)\n",
        "\n",
        "        print(\"\\n💰 Armazéns mais lucrativos:\")\n",
        "        for nome, lucro in lucros:\n",
        "            print(f\"💵 - {nome}: {lucro:.2f}€ de lucro estimado\")"
      ],
      "metadata": {
        "id": "h5BdDqGmVb--"
      },
      "execution_count": null,
      "outputs": []
    },
    {
      "cell_type": "code",
      "source": [
        "# Adição de armazéns\n",
        "armas =  []\n",
        "\n",
        "armazem_A = Armazem(\"Armazém A\", 1000, Lat=42.1, Lon=-8.6)\n",
        "armazem_B = Armazem(\"Armazém B\", 1500, Lat=42.1, Lon=-8.6)\n",
        "armazem_C = Armazem(\"Armazém C\", 2000, Lat=42.1, Lon=-8.6)\n",
        "\n",
        "# exemplos de erros e avisos\n",
        "armazem_D = Armazem(\"Armazém C\", 260, Lat=42.1, Lon=-8.6)"
      ],
      "metadata": {
        "id": "aMOTdTaBWb2_",
        "colab": {
          "base_uri": "https://localhost:8080/"
        },
        "outputId": "30354e0f-e5bc-423a-f20a-33cca0db745b"
      },
      "execution_count": null,
      "outputs": [
        {
          "output_type": "stream",
          "name": "stdout",
          "text": [
            "✅ Sucesso: Armazém criando [ 'Armazém A' ].\n",
            "✅ Sucesso: Armazém criando [ 'Armazém B' ].\n",
            "✅ Sucesso: Armazém criando [ 'Armazém C' ].\n",
            "❌ Erro: já existe um armazém com o nome 'Armazém C'.\n"
          ]
        }
      ]
    },
    {
      "cell_type": "code",
      "source": [
        "# Adição de dados\n",
        "armazem_A.adicionar_mercadoria(\"Arroz\", 30, 1.2, 2.0)\n",
        "armazem_A.adicionar_mercadoria(\"Feijão\", 20, 1.5, 1.8)\n",
        "armazem_B.adicionar_mercadoria(\"Açúcar\", 50, 1.0, 1.5)\n",
        "armazem_C.adicionar_mercadoria(\"Sal\", 40, 0.8, 1.0)\n",
        "\n",
        "# exemplos de erros e avisos\n",
        "armazem_C.adicionar_mercadoria(\"café\", 50, 1.0, 1.5)\n",
        "armazem_C.adicionar_mercadoria(\"café\", -10, .8, 1.5)\n"
      ],
      "metadata": {
        "colab": {
          "base_uri": "https://localhost:8080/"
        },
        "id": "dLp-uGcUfZZI",
        "outputId": "c36072bd-82cb-40c5-d05d-880df05881fa"
      },
      "execution_count": null,
      "outputs": [
        {
          "output_type": "stream",
          "name": "stdout",
          "text": [
            "📦 30 unidades de Arroz adicionadas ao Armazém A.\n",
            "📦 20 unidades de Feijão adicionadas ao Armazém A.\n",
            "📦 50 unidades de Açúcar adicionadas ao Armazém B.\n",
            "📦 40 unidades de Sal adicionadas ao Armazém C.\n",
            "📦 50 unidades de café adicionadas ao Armazém C.\n",
            "❌ Erro: Introduza apenas valores positivos!\n"
          ]
        }
      ]
    },
    {
      "cell_type": "code",
      "source": [
        "'''     def remover_mercadoria(self, nome, quantidade):\n",
        "        if nome in self.stock and self.stock[nome][\"quantidade\"] >= quantidade:\n",
        "            self.stock[nome][\"quantidade\"] -= quantidade\n",
        "            if self.stock[nome][\"quantidade\"] == 0:\n",
        "                del self.stock[nome]\n",
        "            print(f\"🗑️ {quantidade} unidades de {nome} removidas do {self.nome}.\")\n",
        "        else:\n",
        "            print(\"❌ Erro: Quantidade insuficiente ou produto inexistente.\") '''"
      ],
      "metadata": {
        "id": "TWOCDIYwV55j",
        "colab": {
          "base_uri": "https://localhost:8080/",
          "height": 70
        },
        "outputId": "59741856-b263-4fa5-c0ff-94ab0e85ba61"
      },
      "execution_count": null,
      "outputs": [
        {
          "output_type": "execute_result",
          "data": {
            "text/plain": [
              "'     def remover_mercadoria(self, nome, quantidade):\\n        if nome in self.stock and self.stock[nome][\"quantidade\"] >= quantidade:\\n            self.stock[nome][\"quantidade\"] -= quantidade\\n            if self.stock[nome][\"quantidade\"] == 0:\\n                del self.stock[nome]\\n            print(f\"🗑️ {quantidade} unidades de {nome} removidas do {self.nome}.\")\\n        else:\\n            print(\"❌ Erro: Quantidade insuficiente ou produto inexistente.\") '"
            ],
            "application/vnd.google.colaboratory.intrinsic+json": {
              "type": "string"
            }
          },
          "metadata": {},
          "execution_count": 239
        }
      ]
    },
    {
      "cell_type": "code",
      "source": [
        "# Remoção de mercadoria\n",
        "armazem_A.remover_mercadoria(\"Latas\", 10)"
      ],
      "metadata": {
        "id": "WHGC31BoWdrh",
        "colab": {
          "base_uri": "https://localhost:8080/"
        },
        "outputId": "99c9ee9b-5ebe-47ef-adfd-e22e12bb730d"
      },
      "execution_count": null,
      "outputs": [
        {
          "output_type": "stream",
          "name": "stdout",
          "text": [
            "❌ Erro: Quantidade insuficiente ou produto inexistente.\n"
          ]
        }
      ]
    },
    {
      "cell_type": "markdown",
      "source": [
        "O método remover_mercadoria permite retirar uma determinada quantidade de um produto do stock. Se a quantidade disponível for suficiente, a quantidade é reduzida e, caso chegue a zero, o produto é removido do armazém. Se o produto não existir ou a quantidade for insuficiente, é apresentada uma mensagem de erro."
      ],
      "metadata": {
        "id": "i6VFGmw8WIht"
      }
    },
    {
      "cell_type": "code",
      "source": [
        "'''   def transferir_mercadoria(self, destino, nome, quantidade):\n",
        "        if nome in self.stock and self.stock[nome][\"quantidade\"] >= quantidade:\n",
        "            destino.adicionar_mercadoria(nome, quantidade, self.stock[nome][\"preço\"], self.stock[nome][\"peso\"])\n",
        "            self.remover_mercadoria(nome, quantidade)\n",
        "        else:\n",
        "            print(\"❌ Erro: Transferência inválida.\") '''"
      ],
      "metadata": {
        "id": "_Lj9LyW2WPwX",
        "colab": {
          "base_uri": "https://localhost:8080/",
          "height": 53
        },
        "outputId": "b7bb996a-63d1-4010-81d6-3169b814aa9c"
      },
      "execution_count": null,
      "outputs": [
        {
          "output_type": "execute_result",
          "data": {
            "text/plain": [
              "'   def transferir_mercadoria(self, destino, nome, quantidade):\\n        if nome in self.stock and self.stock[nome][\"quantidade\"] >= quantidade:\\n            destino.adicionar_mercadoria(nome, quantidade, self.stock[nome][\"preço\"], self.stock[nome][\"peso\"])\\n            self.remover_mercadoria(nome, quantidade)\\n        else:\\n            print(\"❌ Erro: Transferência inválida.\") '"
            ],
            "application/vnd.google.colaboratory.intrinsic+json": {
              "type": "string"
            }
          },
          "metadata": {},
          "execution_count": 241
        }
      ]
    },
    {
      "cell_type": "code",
      "source": [
        "# Transferência entre armazéns\n",
        "armazem_A.transferir_mercadoria(armazem_B, \"Feijão\", 10)\n",
        "armazem_B.transferir_mercadoria(armazem_C, \"Açúcar\", 20)"
      ],
      "metadata": {
        "id": "mMK-oXD1WkxM",
        "colab": {
          "base_uri": "https://localhost:8080/"
        },
        "outputId": "96a702a4-be7b-49c4-e7e1-88bc5e27f546"
      },
      "execution_count": null,
      "outputs": [
        {
          "output_type": "stream",
          "name": "stdout",
          "text": [
            "📦 10 unidades de Feijão adicionadas ao Armazém B.\n",
            "🗑️ 10 unidades de Feijão removidas do Armazém A.\n",
            "📦 20 unidades de Açúcar adicionadas ao Armazém C.\n",
            "🗑️ 20 unidades de Açúcar removidas do Armazém B.\n"
          ]
        }
      ]
    },
    {
      "cell_type": "markdown",
      "source": [
        "O método transferir_mercadoria permite transferir uma quantidade específica de um produto para outro armazém. Se houver stock suficiente, o produto é adicionado ao armazém de destino e removido do armazém de origem. Caso contrário, é apresentada uma mensagem de erro."
      ],
      "metadata": {
        "id": "057Vp76iWRC0"
      }
    },
    {
      "cell_type": "code",
      "source": [
        "''' def listar_armazens():\n",
        "   for armazem in armas:\n",
        "    print(armazem.nome) '''"
      ],
      "metadata": {
        "id": "snNgeY3p0ooY",
        "colab": {
          "base_uri": "https://localhost:8080/",
          "height": 35
        },
        "outputId": "c1a3d3f9-3e80-461c-97d7-10fc89ef3293"
      },
      "execution_count": null,
      "outputs": [
        {
          "output_type": "execute_result",
          "data": {
            "text/plain": [
              "' def listar_armazens():\\n   for armazem in armas:\\n    print(armazem.nome) '"
            ],
            "application/vnd.google.colaboratory.intrinsic+json": {
              "type": "string"
            }
          },
          "metadata": {},
          "execution_count": 243
        }
      ]
    },
    {
      "cell_type": "code",
      "source": [
        "Armazem.listar_armazens()"
      ],
      "metadata": {
        "id": "imRBBEsGjU6f",
        "colab": {
          "base_uri": "https://localhost:8080/"
        },
        "outputId": "dea83494-804b-45b9-b3ec-73ae80528f7a"
      },
      "execution_count": null,
      "outputs": [
        {
          "output_type": "stream",
          "name": "stdout",
          "text": [
            "\n",
            "📦 Armazém: Armazém A (Capacidade: 1000)\n",
            "  - Arroz: 30 unidades | Preço: 1.2€ | Peso: 2.0kg\n",
            "  - Feijão: 10 unidades | Preço: 1.5€ | Peso: 1.8kg\n",
            "\n",
            "📦 Armazém: Armazém B (Capacidade: 1500)\n",
            "  - Açúcar: 30 unidades | Preço: 1.0€ | Peso: 1.5kg\n",
            "  - Feijão: 10 unidades | Preço: 1.5€ | Peso: 1.8kg\n",
            "\n",
            "📦 Armazém: Armazém C (Capacidade: 2000)\n",
            "  - Sal: 40 unidades | Preço: 0.8€ | Peso: 1.0kg\n",
            "  - café: 50 unidades | Preço: 1.0€ | Peso: 1.5kg\n",
            "  - Açúcar: 20 unidades | Preço: 1.0€ | Peso: 1.5kg\n"
          ]
        }
      ]
    },
    {
      "cell_type": "code",
      "source": [
        "'''     def verificar_capacidade(self):\n",
        "        total = sum(produto[\"quantidade\"] for produto in self.stock.values())\n",
        "        if total == self.capacidade:\n",
        "            print(f\"⚠️ Aviso: O armazém '{self.nome}' atingiu a sua capacidade máxima.\")\n",
        "            self.logs.append(\"Capacidade máxima atingida.\")\n",
        "        elif total > self.capacidade:\n",
        "            print(f\"⚠️ Aviso: O armazém '{self.nome}' ultrapassou a capacidade!\")\n",
        "            self.logs.append(\"Capacidade ultrapassada.\")\n",
        "        elif total >= self.capacidade * 0.9:\n",
        "            print(f\"⚠️ Aviso: O armazém '{self.nome}' está a 90% da capacidade.\")\n",
        "            self.logs.append(\"Capacidade a 90%.\") '''"
      ],
      "metadata": {
        "id": "oFQ7LskMhH1t",
        "colab": {
          "base_uri": "https://localhost:8080/",
          "height": 70
        },
        "outputId": "adda4cfb-f1c1-44d1-ecba-35e705aa073f"
      },
      "execution_count": null,
      "outputs": [
        {
          "output_type": "execute_result",
          "data": {
            "text/plain": [
              "'     def verificar_capacidade(self):\\n        total = sum(produto[\"quantidade\"] for produto in self.stock.values())\\n        if total == self.capacidade:\\n            print(f\"⚠️ Aviso: O armazém \\'{self.nome}\\' atingiu a sua capacidade máxima.\")\\n            self.logs.append(\"Capacidade máxima atingida.\")\\n        elif total > self.capacidade:\\n            print(f\"⚠️ Aviso: O armazém \\'{self.nome}\\' ultrapassou a capacidade!\")\\n            self.logs.append(\"Capacidade ultrapassada.\")\\n        elif total >= self.capacidade * 0.9:\\n            print(f\"⚠️ Aviso: O armazém \\'{self.nome}\\' está a 90% da capacidade.\")\\n            self.logs.append(\"Capacidade a 90%.\") '"
            ],
            "application/vnd.google.colaboratory.intrinsic+json": {
              "type": "string"
            }
          },
          "metadata": {},
          "execution_count": 245
        }
      ]
    },
    {
      "cell_type": "markdown",
      "source": [
        "O método transferir_mercadoria permite mover uma quantidade específica de um determinado produto de um armazém para outro. Antes da transferência, verifica-se se o armazém de origem possui stock suficiente. Se sim, o produto é retirado do armazém de origem e adicionado ao armazém de destino. Caso contrário, é apresentada uma mensagem de erro a informar que a operação não é possível por falta de stock disponível."
      ],
      "metadata": {
        "id": "jRjTmRQfhZhq"
      }
    },
    {
      "cell_type": "code",
      "source": [
        "'''     def mostrar_logs(self):\n",
        "        print(f\"--- 📜 LOGS DO ARMAZÉM '{self.nome}' ---\")\n",
        "        for log in self.logs:\n",
        "            print(log) '''"
      ],
      "metadata": {
        "id": "PDf-TX6uhPcE",
        "colab": {
          "base_uri": "https://localhost:8080/",
          "height": 35
        },
        "outputId": "3d85aae4-63df-4a7f-f9e1-98465bfdb50b"
      },
      "execution_count": null,
      "outputs": [
        {
          "output_type": "execute_result",
          "data": {
            "text/plain": [
              "'     def mostrar_logs(self):\\n        print(f\"--- 📜 LOGS DO ARMAZÉM \\'{self.nome}\\' ---\")\\n        for log in self.logs:\\n            print(log) '"
            ],
            "application/vnd.google.colaboratory.intrinsic+json": {
              "type": "string"
            }
          },
          "metadata": {},
          "execution_count": 246
        }
      ]
    },
    {
      "cell_type": "code",
      "source": [
        "# Criar armazém\n",
        "armazem_A = Armazem(\"A\", 1000, 0, 0)\n",
        "\n",
        "# Adicionar mercadoria para atingir 90%\n",
        "armazem_A.adicionar_mercadoria(\"Latas\", 90, 1.5, 0.3)\n",
        "\n",
        "# Verificar capacidade\n",
        "armazem_A.verificar_capacidade()\n",
        "\n",
        "# Mostrar logs\n",
        "armazem_A.mostrar_logs()"
      ],
      "metadata": {
        "colab": {
          "base_uri": "https://localhost:8080/"
        },
        "id": "t_y0D0y6kiEn",
        "outputId": "eaf1aaab-177a-43b5-d094-af545b4d1b3d"
      },
      "execution_count": null,
      "outputs": [
        {
          "output_type": "stream",
          "name": "stdout",
          "text": [
            "✅ Sucesso: Armazém criando [ 'A' ].\n",
            "📦 90 unidades de Latas adicionadas ao A.\n",
            "--- 📜 LOGS DO ARMAZÉM 'A' ---\n"
          ]
        }
      ]
    },
    {
      "cell_type": "markdown",
      "source": [
        "O método mostrar_logs apresenta o histórico de eventos registados no armazém. Ao ser chamado, imprime no ecrã todos os logs associados ao armazém em questão, permitindo assim acompanhar ações importantes, como alertas de capacidade ou outras operações relevantes."
      ],
      "metadata": {
        "id": "mkJiNwLYheul"
      }
    },
    {
      "cell_type": "code",
      "source": [
        "'''     def custo_medio_produto(self, nome):\n",
        "        if nome in self.stock:\n",
        "            preco = self.stock[nome][\"preço\"]\n",
        "            print(f\"💰 Custo médio de '{nome}' no armazém '{self.nome}': {preco:.2f}€\")\n",
        "            return preco\n",
        "        else:\n",
        "            print(f\"❌ Produto '{nome}' não encontrado no armazém '{self.nome}'.\")\n",
        "            return None '''"
      ],
      "metadata": {
        "colab": {
          "base_uri": "https://localhost:8080/",
          "height": 53
        },
        "id": "dffq1Fb6mby8",
        "outputId": "e58d6688-1043-4830-d580-c0391d4bb7b8"
      },
      "execution_count": null,
      "outputs": [
        {
          "output_type": "execute_result",
          "data": {
            "text/plain": [
              "'     def custo_medio_produto(self, nome):\\n        if nome in self.stock:\\n            preco = self.stock[nome][\"preço\"]\\n            print(f\"💰 Custo médio de \\'{nome}\\' no armazém \\'{self.nome}\\': {preco:.2f}€\")\\n            return preco\\n        else:\\n            print(f\"❌ Produto \\'{nome}\\' não encontrado no armazém \\'{self.nome}\\'.\")\\n            return None '"
            ],
            "application/vnd.google.colaboratory.intrinsic+json": {
              "type": "string"
            }
          },
          "metadata": {},
          "execution_count": 248
        }
      ]
    },
    {
      "cell_type": "code",
      "source": [
        "armazem_A.custo_medio_produto(\"Latas\")"
      ],
      "metadata": {
        "colab": {
          "base_uri": "https://localhost:8080/"
        },
        "id": "rdkZ8MLOnSEG",
        "outputId": "fab2bd59-9c9f-4abf-f85b-fba148894530"
      },
      "execution_count": null,
      "outputs": [
        {
          "output_type": "stream",
          "name": "stdout",
          "text": [
            "💰 Custo médio de 'Latas' no armazém 'A': 1.50€\n"
          ]
        },
        {
          "output_type": "execute_result",
          "data": {
            "text/plain": [
              "1.5"
            ]
          },
          "metadata": {},
          "execution_count": 249
        }
      ]
    },
    {
      "cell_type": "markdown",
      "source": [
        "Este método permite calcular o preço médio de um produto dentro do armazém. Ele verifica se o produto existe no stock do armazém e, caso exista, retorna o preço médio do produto. Se o produto não for encontrado, o método retorna uma mensagem de erro."
      ],
      "metadata": {
        "id": "Vmc11i84nazD"
      }
    },
    {
      "cell_type": "code",
      "source": [
        "'''     def valor_medio_venda_produto(self, nome):\n",
        "        if nome in self.stock:\n",
        "            # Calcular o preço médio de venda\n",
        "            qtd = self.stock[nome][\"quantidade\"]\n",
        "            preco_venda = self.stock[nome][\"preço\"]\n",
        "\n",
        "            # Valor médio de venda = preço médio * quantidade total\n",
        "            valor_medio_venda = preco_venda * qtd\n",
        "\n",
        "            print(f\"💰 Valor médio de venda de '{nome}' no armazém '{self.nome}': {valor_medio_venda:.2f}€\")\n",
        "            return valor_medio_venda\n",
        "        else:\n",
        "            print(f\"❌ Produto '{nome}' não encontrado no armazém '{self.nome}'.\")\n",
        "            return None '''"
      ],
      "metadata": {
        "colab": {
          "base_uri": "https://localhost:8080/",
          "height": 70
        },
        "id": "Dxt4PFANnswX",
        "outputId": "bcd2b24d-3297-4233-bf85-55074ea46c24"
      },
      "execution_count": null,
      "outputs": [
        {
          "output_type": "execute_result",
          "data": {
            "text/plain": [
              "'     def valor_medio_venda_produto(self, nome):\\n        if nome in self.stock:\\n            # Calcular o preço médio de venda\\n            qtd = self.stock[nome][\"quantidade\"]\\n            preco_venda = self.stock[nome][\"preço\"]\\n\\n            # Valor médio de venda = preço médio * quantidade total\\n            valor_medio_venda = preco_venda * qtd\\n\\n            print(f\"💰 Valor médio de venda de \\'{nome}\\' no armazém \\'{self.nome}\\': {valor_medio_venda:.2f}€\")\\n            return valor_medio_venda\\n        else:\\n            print(f\"❌ Produto \\'{nome}\\' não encontrado no armazém \\'{self.nome}\\'.\")\\n            return None '"
            ],
            "application/vnd.google.colaboratory.intrinsic+json": {
              "type": "string"
            }
          },
          "metadata": {},
          "execution_count": 250
        }
      ]
    },
    {
      "cell_type": "code",
      "source": [
        "# Adicionando mercadoria com preço de venda\n",
        "armazem_A.adicionar_mercadoria(\"Latas\", 50, 2.0, 0.5)  # Preço de venda = 2.0€\n",
        "armazem_A.adicionar_mercadoria(\"Latas\", 50, 3.0, 0.5)  # Preço de venda = 3.0€\n",
        "armazem_B.adicionar_mercadoria(\"Latas\", 50, 3.0, 0.5)  # Preço de venda = 3.0€\n",
        "\n",
        "# Calcular o valor médio de venda\n",
        "armazem_A.valor_medio_venda_produto(\"Latas\")"
      ],
      "metadata": {
        "colab": {
          "base_uri": "https://localhost:8080/"
        },
        "id": "E_tpz-NgnvyI",
        "outputId": "cb0c6bff-9f86-495c-9e89-54419bafdb7c"
      },
      "execution_count": null,
      "outputs": [
        {
          "output_type": "stream",
          "name": "stdout",
          "text": [
            "📦 50 unidades de Latas adicionadas ao A.\n",
            "📦 50 unidades de Latas adicionadas ao A.\n",
            "📦 50 unidades de Latas adicionadas ao Armazém B.\n",
            "💰 Valor médio de venda de 'Latas' no armazém 'A': 385.00€\n"
          ]
        },
        {
          "output_type": "execute_result",
          "data": {
            "text/plain": [
              "385.0"
            ]
          },
          "metadata": {},
          "execution_count": 251
        }
      ]
    },
    {
      "cell_type": "markdown",
      "source": [
        "Este método calcula o valor médio de venda de um produto dentro do armazém. Ele verifica se o produto está presente no stock e, caso esteja, calcula o valor total de venda com base no preço de venda unitário e na quantidade disponível."
      ],
      "metadata": {
        "id": "YuihYlitn60W"
      }
    },
    {
      "cell_type": "code",
      "source": [
        "'''     def listar_produtos_maior_margem(self):\n",
        "        produtos_com_margem = []\n",
        "\n",
        "        for nome, info in self.stock.items():\n",
        "            preco_custo = info[\"preço\"]\n",
        "            quantidade = info[\"quantidade\"]\n",
        "\n",
        "            if \"preço_venda\" in info:\n",
        "                preco_venda = info[\"preço_venda\"]\n",
        "                margem = ((preco_venda - preco_custo) / preco_venda) * 100\n",
        "                produtos_com_margem.append((nome, margem, quantidade))\n",
        "\n",
        "                # Guardar histórico\n",
        "                if nome not in self.historico_margens:\n",
        "                    self.historico_margens[nome] = []\n",
        "                self.historico_margens[nome].append(margem)\n",
        "\n",
        "        produtos_com_margem.sort(key=lambda x: x[1], reverse=True)\n",
        "\n",
        "        print(f\"📊 --- Produtos com maior margem de lucro no armazém '{self.nome}' ---\")\n",
        "        for nome, margem, quantidade in produtos_com_margem:\n",
        "            print(f\"📈 Produto: {nome} | Margem: {margem:.2f}% | Quantidade: {quantidade}\") '''"
      ],
      "metadata": {
        "colab": {
          "base_uri": "https://localhost:8080/",
          "height": 105
        },
        "id": "7ts6WOqEoIou",
        "outputId": "8c5ecb3f-0283-445f-bcbd-c44b1576d4a6"
      },
      "execution_count": null,
      "outputs": [
        {
          "output_type": "execute_result",
          "data": {
            "text/plain": [
              "'     def listar_produtos_maior_margem(self):\\n        produtos_com_margem = []\\n\\n        for nome, info in self.stock.items():\\n            preco_custo = info[\"preço\"]\\n            quantidade = info[\"quantidade\"]\\n\\n            if \"preço_venda\" in info:\\n                preco_venda = info[\"preço_venda\"]\\n                margem = ((preco_venda - preco_custo) / preco_venda) * 100\\n                produtos_com_margem.append((nome, margem, quantidade))\\n\\n                # Guardar histórico\\n                if nome not in self.historico_margens:\\n                    self.historico_margens[nome] = []\\n                self.historico_margens[nome].append(margem)\\n\\n        produtos_com_margem.sort(key=lambda x: x[1], reverse=True)\\n\\n        print(f\"📊 --- Produtos com maior margem de lucro no armazém \\'{self.nome}\\' ---\")\\n        for nome, margem, quantidade in produtos_com_margem:\\n            print(f\"📈 Produto: {nome} | Margem: {margem:.2f}% | Quantidade: {quantidade}\") '"
            ],
            "application/vnd.google.colaboratory.intrinsic+json": {
              "type": "string"
            }
          },
          "metadata": {},
          "execution_count": 252
        }
      ]
    },
    {
      "cell_type": "code",
      "source": [
        "# Adicionando mercadorias com preços de custo e de venda\n",
        "armazem_A.adicionar_mercadoria(\"Latas\", 10, 2.0, 0.5)  # Preço de custo = 2.0€\n",
        "armazem_A.stock[\"Latas\"][\"preço_venda\"] = 3.0  # Preço de venda = 3.0€\n",
        "\n",
        "armazem_A.adicionar_mercadoria(\"Peras\", 10, 1.0, 0.3)  # Preço de custo = 1.0€\n",
        "armazem_A.stock[\"Peras\"][\"preço_venda\"] = 5.5  # Preço de venda = 5.5€\n",
        "\n",
        "# Listar produtos com maior margem de lucro\n",
        "armazem_A.listar_produtos_maior_margem()"
      ],
      "metadata": {
        "colab": {
          "base_uri": "https://localhost:8080/"
        },
        "id": "XzjaaplxoJ-G",
        "outputId": "f8d162f3-76d8-4f0f-d2fd-7c7b09740f86"
      },
      "execution_count": null,
      "outputs": [
        {
          "output_type": "stream",
          "name": "stdout",
          "text": [
            "📦 10 unidades de Latas adicionadas ao A.\n",
            "📦 10 unidades de Peras adicionadas ao A.\n",
            "📊 --- Produtos com maior margem de lucro no armazém 'A' ---\n",
            "📈 Produto: Peras | Margem: 81.82% | Quantidade: 10\n",
            "📈 Produto: Latas | Margem: 32.50% | Quantidade: 200\n"
          ]
        }
      ]
    },
    {
      "cell_type": "markdown",
      "source": [
        "Este método lista os produtos com a maior margem de lucro em um determinado armazém. Ele calcula a margem de lucro de cada produto com base no preço de custo (preço de aquisição) e no preço de venda, e exibe os produtos ordenados pela maior margem."
      ],
      "metadata": {
        "id": "NFBBUcCtoMa0"
      }
    },
    {
      "cell_type": "code",
      "source": [
        "'''     def alerta_quase_cheio(self):\n",
        "        total = sum(produto[\"quantidade\"] for produto in self.stock.values())\n",
        "        if total >= self.capacidade * 0.9:\n",
        "            print(f\"⚠️ Aviso: O armazém '{self.nome}' está a 90% da sua capacidade!\")\n",
        "\n",
        "    def alerta_quase_vazio(self):\n",
        "        total = sum(produto[\"quantidade\"] for produto in self.stock.values())\n",
        "        if total <= self.capacidade * 0.1:\n",
        "            print(f\"⚠️ Aviso: O armazém '{self.nome}' está quase vazio (menos de 10% da capacidade).\") '''"
      ],
      "metadata": {
        "colab": {
          "base_uri": "https://localhost:8080/",
          "height": 70
        },
        "id": "WBkRZh1Lp5PF",
        "outputId": "0a4e768c-fdbe-4afd-adde-9cd2bbbef0b4"
      },
      "execution_count": null,
      "outputs": [
        {
          "output_type": "execute_result",
          "data": {
            "text/plain": [
              "'     def alerta_quase_cheio(self):\\n        total = sum(produto[\"quantidade\"] for produto in self.stock.values())\\n        if total >= self.capacidade * 0.9:\\n            print(f\"⚠️ Aviso: O armazém \\'{self.nome}\\' está a 90% da sua capacidade!\")\\n\\n    def alerta_quase_vazio(self):\\n        total = sum(produto[\"quantidade\"] for produto in self.stock.values())\\n        if total <= self.capacidade * 0.1:\\n            print(f\"⚠️ Aviso: O armazém \\'{self.nome}\\' está quase vazio (menos de 10% da capacidade).\") '"
            ],
            "application/vnd.google.colaboratory.intrinsic+json": {
              "type": "string"
            }
          },
          "metadata": {},
          "execution_count": 254
        }
      ]
    },
    {
      "cell_type": "code",
      "source": [
        "# Adicionando mercadorias\n",
        "armazem_A.adicionar_mercadoria(\"Latas\", 200, 2.0, 0.5)  # 40 unidades\n",
        "armazem_B.adicionar_mercadoria(\"Peras\", 200, 1.0, 0.3)  # 30 unidades\n",
        "\n",
        "# Verificar alertas de capacidade\n",
        "armazem_A.alerta_quase_cheio()\n",
        "armazem_A.alerta_quase_vazio()\n",
        "\n",
        "# Remover mercadoria para verificar alerta de quase vazio\n",
        "armazem_B.remover_mercadoria(\"Peras\", 300)\n",
        "\n",
        "# Verificar alertas de capacidade novamente\n",
        "armazem_A.alerta_quase_cheio()\n",
        "armazem_A.alerta_quase_vazio()\n",
        "armazem_B.alerta_quase_cheio()\n",
        "armazem_B.alerta_quase_vazio()"
      ],
      "metadata": {
        "colab": {
          "base_uri": "https://localhost:8080/"
        },
        "id": "jIE-DMG3p7bE",
        "outputId": "c6fbd479-7084-4c16-b83b-aa2c2a83c83f"
      },
      "execution_count": null,
      "outputs": [
        {
          "output_type": "stream",
          "name": "stdout",
          "text": [
            "📦 200 unidades de Latas adicionadas ao A.\n",
            "📦 200 unidades de Peras adicionadas ao Armazém B.\n",
            "❌ Erro: Quantidade insuficiente ou produto inexistente.\n"
          ]
        }
      ]
    },
    {
      "cell_type": "code",
      "source": [
        "'''     def grafico_evolucao_margens(self):\n",
        "        if not self.historico_margens:\n",
        "            print(\"📉 Ainda não há histórico de margens.\")\n",
        "            return\n",
        "\n",
        "        plt.figure(figsize=(10, 5))\n",
        "\n",
        "        for produto, margens in self.historico_margens.items():\n",
        "            plt.plot(margens, label=produto)\n",
        "\n",
        "        plt.title(f\"📈 Evolução da Margem por Produto - Armazém {self.nome}\")\n",
        "        plt.xlabel(\"Registos\")\n",
        "        plt.ylabel(\"Margem (%)\")\n",
        "        plt.legend()\n",
        "        plt.grid(True)\n",
        "        plt.tight_layout()\n",
        "        plt.show() '''"
      ],
      "metadata": {
        "colab": {
          "base_uri": "https://localhost:8080/",
          "height": 70
        },
        "id": "WQXQs9C81Sqn",
        "outputId": "fcd40042-fef1-41c4-928c-562c0c3d2a02"
      },
      "execution_count": null,
      "outputs": [
        {
          "output_type": "execute_result",
          "data": {
            "text/plain": [
              "'     def grafico_evolucao_margens(self):\\n        if not self.historico_margens:\\n            print(\"📉 Ainda não há histórico de margens.\")\\n            return\\n\\n        plt.figure(figsize=(10, 5))\\n\\n        for produto, margens in self.historico_margens.items():\\n            plt.plot(margens, label=produto)\\n\\n        plt.title(f\"📈 Evolução da Margem por Produto - Armazém {self.nome}\")\\n        plt.xlabel(\"Registos\")\\n        plt.ylabel(\"Margem (%)\")\\n        plt.legend()\\n        plt.grid(True)\\n        plt.tight_layout()\\n        plt.show() '"
            ],
            "application/vnd.google.colaboratory.intrinsic+json": {
              "type": "string"
            }
          },
          "metadata": {},
          "execution_count": 256
        }
      ]
    },
    {
      "cell_type": "code",
      "source": [
        "armazem_A.listar_produtos_maior_margem()\n",
        "armazem_A.grafico_evolucao_margens()"
      ],
      "metadata": {
        "colab": {
          "base_uri": "https://localhost:8080/",
          "height": 629
        },
        "id": "46LnlMIW04Jz",
        "outputId": "bb092eb7-3689-45f1-8af4-fb5e2b8dfde0"
      },
      "execution_count": null,
      "outputs": [
        {
          "output_type": "stream",
          "name": "stdout",
          "text": [
            "📊 --- Produtos com maior margem de lucro no armazém 'A' ---\n",
            "📈 Produto: Peras | Margem: 81.82% | Quantidade: 10\n",
            "📈 Produto: Latas | Margem: 32.92% | Quantidade: 400\n"
          ]
        },
        {
          "output_type": "stream",
          "name": "stderr",
          "text": [
            "<ipython-input-236-635b6b7cecea>:163: UserWarning: Glyph 128200 (\\N{CHART WITH UPWARDS TREND}) missing from font(s) DejaVu Sans.\n",
            "  plt.tight_layout()\n",
            "/usr/local/lib/python3.11/dist-packages/IPython/core/pylabtools.py:151: UserWarning: Glyph 128200 (\\N{CHART WITH UPWARDS TREND}) missing from font(s) DejaVu Sans.\n",
            "  fig.canvas.print_figure(bytes_io, **kw)\n"
          ]
        },
        {
          "output_type": "display_data",
          "data": {
            "text/plain": [
              "<Figure size 1000x500 with 1 Axes>"
            ],
            "image/png": "[encoded data removed]"
          },
          "metadata": {}
        }
      ]
    },
    {
      "cell_type": "markdown",
      "source": [
        "Este gráfico mostra a evolução da margem de lucro dos produtos ao longo do tempo num determinado armazém. A margem é calculada com base no preço de custo (aquisição) e no preço de venda, permitindo visualizar quais produtos têm tido maior rentabilidade em diferentes momentos."
      ],
      "metadata": {
        "id": "wouNNjB61VfF"
      }
    },
    {
      "cell_type": "code",
      "source": [
        "'''     def listar_armazens_mais_lucrativos():\n",
        "        if not armas:\n",
        "            print(\"❌ Não existem armazéns registados.\")\n",
        "            return\n",
        "\n",
        "        lucros = []\n",
        "\n",
        "        armazens_filtrados = [armazem for armazem in armas if not armazem.nome.startswith(\"Armazém\")]\n",
        "\n",
        "        for armazem in armazens_filtrados:\n",
        "            total_lucro = 0\n",
        "            for produto, info in armazem.stock.items():\n",
        "                if \"preço_venda\" in info:\n",
        "                    preco_custo = info[\"preço\"]\n",
        "                    preco_venda = info[\"preço_venda\"]\n",
        "                    quantidade = info[\"quantidade\"]\n",
        "                    lucro = (preco_venda - preco_custo) * quantidade\n",
        "                    total_lucro += lucro\n",
        "            lucros.append((armazem.nome, total_lucro))\n",
        "\n",
        "        lucros.sort(key=lambda x: x[1], reverse=True)\n",
        "\n",
        "\n",
        "          print(\"\\n💰 Armazéns mais lucrativos:\")\n",
        "        for nome, lucro in lucros:\n",
        "            print(f\"💵 - {nome}: {lucro:.2f}€ de lucro estimado\")\n",
        "\n",
        " '''"
      ],
      "metadata": {
        "colab": {
          "base_uri": "https://localhost:8080/",
          "height": 105
        },
        "id": "QhdljZGL1-Xd",
        "outputId": "ba64b76e-e8f2-4d1f-9b94-ec1d3565d5b1"
      },
      "execution_count": null,
      "outputs": [
        {
          "output_type": "execute_result",
          "data": {
            "text/plain": [
              "'     def listar_armazens_mais_lucrativos():\\n        if not armas:\\n            print(\"❌ Não existem armazéns registados.\")\\n            return\\n\\n        lucros = []\\n        \\n        armazens_filtrados = [armazem for armazem in armas if not armazem.nome.startswith(\"Armazém\")]\\n\\n        for armazem in armazens_filtrados:\\n            total_lucro = 0\\n            for produto, info in armazem.stock.items():\\n                if \"preço_venda\" in info:\\n                    preco_custo = info[\"preço\"]\\n                    preco_venda = info[\"preço_venda\"]\\n                    quantidade = info[\"quantidade\"]\\n                    lucro = (preco_venda - preco_custo) * quantidade\\n                    total_lucro += lucro\\n            lucros.append((armazem.nome, total_lucro))\\n\\n        lucros.sort(key=lambda x: x[1], reverse=True)\\n\\n        \\n          print(\"\\n💰 Armazéns mais lucrativos:\")\\n        for nome, lucro in lucros:\\n            print(f\"💵 - {nome}: {lucro:.2f}€ de lucro estimado\")        \\n\\n '"
            ],
            "application/vnd.google.colaboratory.intrinsic+json": {
              "type": "string"
            }
          },
          "metadata": {},
          "execution_count": 258
        }
      ]
    },
    {
      "cell_type": "code",
      "source": [
        "Armazem.listar_armazens_mais_lucrativos()"
      ],
      "metadata": {
        "colab": {
          "base_uri": "https://localhost:8080/"
        },
        "id": "r18nyLni1_0D",
        "outputId": "2ed0aaa6-ad14-45a1-a103-59f6b20ac926"
      },
      "execution_count": null,
      "outputs": [
        {
          "output_type": "stream",
          "name": "stdout",
          "text": [
            "\n",
            "💰 Armazéns mais lucrativos:\n",
            "💵 - A: 440.00€ de lucro estimado\n"
          ]
        }
      ]
    },
    {
      "cell_type": "markdown",
      "source": [
        "Este gráfico mostra a evolução da margem de lucro de cada produto ao longo do tempo no armazém. A margem de lucro é calculada com base na diferença entre o preço de venda e o preço de custo (aquisição) do produto. A linha de cada produto reflete como a sua margem foi alterada, permitindo analisar o desempenho financeiro de cada item ao longo do tempo.\n",
        "\n"
      ],
      "metadata": {
        "id": "vr9GMOtt3pUh"
      }
    }
  ]
}